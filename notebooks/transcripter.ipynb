{
 "cells": [
  {
   "cell_type": "markdown",
   "metadata": {},
   "source": [
    "# Tanscripting Video Files From TikTok"
   ]
  },
  {
   "cell_type": "markdown",
   "metadata": {},
   "source": [
    "#### Installing dependencies\n",
    "We need moviepy to convert the videos to mp3\n",
    "We need openai-whisper to tanscript the files to text"
   ]
  },
  {
   "cell_type": "code",
   "execution_count": null,
   "metadata": {},
   "outputs": [],
   "source": [
    "%pip install moviepy\n",
    "%pip install -U openai-whisper\n",
    "%pip install faster-whisper \n",
    "%pip install pandas \n",
    "%pip install requests"
   ]
  },
  {
   "cell_type": "markdown",
   "metadata": {},
   "source": [
    "Importing"
   ]
  },
  {
   "cell_type": "code",
   "execution_count": 15,
   "metadata": {},
   "outputs": [],
   "source": [
    "from moviepy import VideoFileClip\n",
    "import whisper\n",
    "import csv\n",
    "import requests\n",
    "from faster_whisper import WhisperModel\n",
    "import httpx\n",
    "import json"
   ]
  },
  {
   "cell_type": "markdown",
   "metadata": {},
   "source": [
    "Downloading video files"
   ]
  },
  {
   "cell_type": "code",
   "execution_count": null,
   "metadata": {},
   "outputs": [],
   "source": [
    "with open(\"tiktok_vids.json\", \"r\") as file: \n",
    "    data = json.load(file)\n",
    "\n",
    "links = []\n",
    "for idx,post in enumerate(data):\n",
    "    if \"videoMeta\" in post and \"downloadAddr\" in post[\"videoMeta\"]:\n",
    "        url = post[\"videoMeta\"][\"downloadAddr\"]\n",
    "        if url: \n",
    "            video_response = httpx.get(url)\n",
    "            file_path = f\"/Users/noursafadi/Documents/Uni/Parsons-Spring-25/Major Studio 02/Thesis/tiktok-scraper/videos/{idx}.mp4\"\n",
    "            with open(file_path, \"wb\") as f:\n",
    "                f.write(video_response.content)\n",
    "            print(f\"{idx}: Seccessful\")\n",
    "        else:\n",
    "            print(f\"{idx} is not Available\")\n",
    "    else:\n",
    "        print(f\"{idx} is Not Available\")"
   ]
  },
  {
   "cell_type": "markdown",
   "metadata": {},
   "source": [
    "Converting from video to audio"
   ]
  },
  {
   "cell_type": "code",
   "execution_count": null,
   "metadata": {},
   "outputs": [],
   "source": [
    "video_path = \"/content/drive/MyDrive/Thesis/Code/download.mp4\"\n",
    "audio_output_path = \"/content/drive/MyDrive/Thesis/Code/my_audio.mp3\"\n",
    "\n",
    "video = VideoFileClip(video_path)\n",
    "audio = video.audio\n",
    "audio.write_audiofile(audio_output_path)\n",
    "\n",
    "video.close()"
   ]
  },
  {
   "cell_type": "code",
   "execution_count": null,
   "metadata": {},
   "outputs": [],
   "source": [
    "#OpenAI WHISPER basic transcripting\n",
    "model = whisper.load_model(\"turbo\")\n",
    "result = model.transcribe(my_audio, task=\"translate\")\n",
    "print(result[\"text\"])"
   ]
  },
  {
   "cell_type": "code",
   "execution_count": null,
   "metadata": {},
   "outputs": [],
   "source": [
    "\n",
    "# 🔑 Set Your DeepL API Key Here\n",
    "DEEPL_API_KEY = \"39f5e8f7-4926-44de-b567-420c316bc88e:fx\"  # Replace with your actual key\n",
    "\n",
    "# Define DeepL Translation Function\n",
    "def translate_text(text, source_lang=\"DE\", target_lang=\"EN\"):\n",
    "    url = \"https://api-free.deepl.com/v2/translate\"  # Use \"api.deepl.com\" for Pro accounts\n",
    "    params = {\n",
    "        \"auth_key\": DEEPL_API_KEY,\n",
    "        \"text\": text,\n",
    "        \"source_lang\": source_lang,\n",
    "        \"target_lang\": target_lang\n",
    "    }\n",
    "    response = requests.post(url, data=params)\n",
    "    if response.status_code == 200:\n",
    "        return response.json()[\"translations\"][0][\"text\"]\n",
    "    else:\n",
    "        print(\"Translation Error:\", response.text)\n",
    "        return text  # Return original text in case of failure\n",
    "\n",
    "# Load Whisper Model\n",
    "model = WhisperModel(\"medium\")  # Use \"small\", \"large-v3\", etc., depending on need\n",
    "\n",
    "# Transcribe the Audio\n",
    "segments, _ = model.transcribe(my_audio, word_timestamps=True)\n",
    "\n",
    "# Define Output CSV File\n",
    "csv_filename = \"/content/drive/MyDrive/Thesis/Code/Translated.csv\"\n",
    "\n",
    "# Open CSV File for Writing\n",
    "with open(csv_filename, mode=\"w\", newline=\"\", encoding=\"utf-8\") as file:\n",
    "    writer = csv.writer(file)\n",
    "\n",
    "    # Write Header\n",
    "    writer.writerow([\"Segment Start\", \"Segment End\", \"German Text\", \"English Translation\"])\n",
    "\n",
    "    # Process Each Transcribed Segment\n",
    "    for segment in segments:\n",
    "        english_translation = translate_text(segment.text)\n",
    "        writer.writerow([segment.start, segment.end, segment.text, english_translation])\n",
    "\n",
    "print(f\"Transcription and translation saved to {csv_filename}\")\n"
   ]
  }
 ],
 "metadata": {
  "kernelspec": {
   "display_name": "Python 3",
   "language": "python",
   "name": "python3"
  },
  "language_info": {
   "codemirror_mode": {
    "name": "ipython",
    "version": 3
   },
   "file_extension": ".py",
   "mimetype": "text/x-python",
   "name": "python",
   "nbconvert_exporter": "python",
   "pygments_lexer": "ipython3",
   "version": "3.10.12"
  }
 },
 "nbformat": 4,
 "nbformat_minor": 2
}
